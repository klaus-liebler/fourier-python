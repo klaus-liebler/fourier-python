{
 "cells": [
  {
   "cell_type": "markdown",
   "metadata": {},
   "source": [
    "# Fourier-Reihe der Rechteck-Schwingung (interaktiv)"
   ]
  },
  {
   "cell_type": "markdown",
   "metadata": {
    "tags": []
   },
   "source": [
    "## Konzept\n",
    "\n",
    "Eine periodische Funktion $y$ mit der Periode $T$ und der Grundfrequenz $\\omega_0=2\\pi$ lässt sich unter bestimmten Voraussetzungen (\"Dirichlet‘sche Bedingungen\")\n",
    "\n",
    "\n",
    "\n",
    "|  Eigenschaft   | Reell: als Überlagerung von Sinus- und Cosinus-Schwingungen darstellen | Komplex: als Überlagerung komplexwertiger Exponentialfunktionen darstellen   |\n",
    "|-----           |-----|-----|\n",
    "| Formel         | $$y(t)=\\frac{a_0}{2}+\\sum_{n = 0}^{+\\infty}[a_n \\cdot \\cos(n \\omega_0 t) + b_n \\cdot \\sin(n \\omega_0 t)]$$  | $$y(t)=\\sum_{n = -\\infty}^{+\\infty}[c_n \\cdot e^{jn \\omega_0 t}]$$   |\n",
    "| Koeffizienten  | $$a_0=\\frac{2}{T} \\cdot \\int_{0}^{T} y(t) \\,dt$$ $$a_n=\\frac{2}{T} \\cdot \\int_{0}^{T} y(t) \\cdot \\cos(n \\omega_0 t) \\,dt$$ $$b_n=\\frac{2}{T} \\cdot \\int_{0}^{T} y(t) \\cdot \\sin(n \\omega_0 t) \\,dt$$   | $$c_n=\\frac{1}{T} \\cdot \\int_{0}^{T} y(t) \\cdot e^{jn \\omega_0 t} \\,dt$$   |\n",
    "\n",
    "\n",
    "## Beispiel\n",
    "Die  interaktive Animation zeigt die Zerlegung und den Wiederaufbau der Rechteckschwingung \n",
    "$\n",
    "rect(t) \\stackrel{\\mathrm{def}}= \\begin{cases}\n",
    "+1 & 0 \\leq t \\leq \\frac{T}{2} \\\\\n",
    "-1 & \\frac{T}{2} \\leq t \\leq T \\\\\n",
    "\\end{cases} \\textrm{ periodisch forgesetzt mit Periode } T \\textrm{.  Hier im Beispiel: } T=3.\n",
    "$\n",
    "\n",
    "Im Skript zeige ich, wie dafür die Fourier-Koeffizienten ausgerechnet werden. Es ergibt sich\n",
    "$\n",
    "a_n=0\n",
    "\\textrm{   und   }\n",
    "b_n = \\begin{cases}\n",
    "\\frac{4}{n\\pi} & \\textrm{ für ungerades n } \\\\\n",
    "0 & \\textrm{ für gerades n } \\\\\n",
    "\\end{cases}.\n",
    "$\n",
    "\n",
    "Mit Hilfe des Schiebereglers können Sie einstellen, bis zu welchem Wert von $n$ die Summe \n",
    "$\n",
    "y(t)=\\frac{a_0}{2}+\\sum_{n = 0}^{\\infty}[a_n \\cdot \\cos(n \\omega_0 t) + b_n \\cdot \\sin(n \\omega_0 t)]\n",
    "$\n",
    "ausgerechnet wird.\n",
    "\n"
   ]
  },
  {
   "cell_type": "code",
   "execution_count": 1,
   "metadata": {
    "jupyter": {
     "source_hidden": true
    },
    "tags": []
   },
   "outputs": [
    {
     "data": {
      "text/latex": [
       "$\\displaystyle y(t)=\\frac{a_0}{2}+\\sum_{n = 0}^{0}[a_n \\cdot \\cos(n \\omega_0 t) + b_n \\cdot \\sin(n \\omega_0 t)]=$"
      ],
      "text/plain": [
       "<IPython.core.display.Math object>"
      ]
     },
     "metadata": {},
     "output_type": "display_data"
    },
    {
     "data": {
      "application/vnd.jupyter.widget-view+json": {
       "model_id": "a93911f9619e4107b25f82b8378041e1",
       "version_major": 2,
       "version_minor": 0
      },
      "text/plain": [
       "interactive(children=(IntSlider(value=0, description='n', max=19), Output()), _dom_classes=('widget-interact',…"
      ]
     },
     "metadata": {},
     "output_type": "display_data"
    }
   ],
   "source": [
    "import ipywidgets as widgets\n",
    "from IPython.display import display, Markdown, Math, Latex\n",
    "import matplotlib.pylab as plt\n",
    "import numpy as np\n",
    "from fhos import colors\n",
    "plt.rcParams['text.usetex'] = True\n",
    "\n",
    "\n",
    "def rect(t, T):\n",
    "        t=t%T\n",
    "        if t<T/2:\n",
    "            return 1\n",
    "        else:\n",
    "            return -1\n",
    "def fr_an_of_rect(n):\n",
    "    return 0\n",
    "def fr_bn_of_rect(n):\n",
    "    if n%2==1:\n",
    "        return 4.0/(n*np.pi)\n",
    "    else:\n",
    "        return 0\n",
    "T=3\n",
    "omega_0=2*np.pi/T\n",
    "\n",
    "m=Math(r\"y(t)=\\frac{a_0}{2}+\\sum_{n = 0}^{\\infty}[a_n \\cdot \\cos(n \\omega_0 t) + b_n \\cdot \\sin(n \\omega_0 t)]\")\n",
    "mathHandle=display(m, display_id=\"my_id\")\n",
    "\n",
    "@widgets.interact(n=(0,19,1), continuous_update=False)\n",
    "def f(n=0):\n",
    "\n",
    "    fig, (ax1, ax2, ax3) = plt.subplots(3, 1)\n",
    "    fig.subplots_adjust(hspace=0.5)\n",
    "    fig.set_figwidth(20)\n",
    "    fig.set_figheight(12)\n",
    "    ts = np.linspace(-10, 10, 1000)\n",
    "    ns = np.arange(0, 20, 1)\n",
    "    y =  [rect(t, T) for t in ts]\n",
    "    ans=[fr_an_of_rect(n) for n in ns ]\n",
    "    bns=[fr_bn_of_rect(n) for n in ns ]\n",
    "    ax1.plot(ts,y,'r--', label=\"RECT-Schwingung\")\n",
    "    vect_sum=[0 for t in ts]\n",
    "    formula=\"\"\n",
    "    for n in range(0, n+1,1):\n",
    "        b_n=bns[n]\n",
    "        if b_n==0:\n",
    "            continue;\n",
    "        vect = b_n*np.sin(n*omega_0*ts)\n",
    "        formula+=r'\\frac{4}{'+str(n)+r'\\pi}\\cdot\\sin('+str(n)+r'\\pi\\cdot t)+'\n",
    "        ax1.plot(ts, vect, color='lightgrey', label=\"_\")\n",
    "        vect_sum+=vect\n",
    "    \n",
    "    ax1.set_title(r'Die Funktion $rect(t)$ und ihr \"Nachbau\" als Summe von reinen Sinus-Funktionen', fontsize=24)\n",
    "    ax1.plot(ts, vect_sum, label=\"Summe\")\n",
    "    ax1.set_xlabel(\"Zeit [s]\", fontsize=16)\n",
    "    ax1.set_xticks(np.arange(-10,11,1))\n",
    "    ax1.legend()\n",
    "\n",
    "    m.data=r\"y(t)=\\frac{a_0}{2}+\\sum_{n = 0}^{\"+str(n)+\"}[a_n \\cdot \\cos(n \\omega_0 t) + b_n \\cdot \\sin(n \\omega_0 t)]=\"+formula[:-1]\n",
    "    mathHandle.update(m)\n",
    "\n",
    "    ax2.set_title('Fourier-Koeffizienten $a_n$ vor $\\cos(n\\omega_{0}t)$ = Amplitude geraden Anteils der Frequenz $n \\cdot \\omega_{0}$', fontsize=24)\n",
    "    ax2.bar(ns, ans, 0.1)\n",
    "    ax2.set_xlabel('n', fontsize=16)\n",
    "    ax2.set_xticks(ns)\n",
    "    ax2.axvline(n+0.1,c='green', ls=\":\")\n",
    "    \n",
    "    ax3.set_title('Fourier-Koeffizienten $b_n$ vor $\\sin(n\\omega_{0}t)$ = Amplitude UNgeraden Anteils der Frequenz $n \\cdot \\omega_{0}$', fontsize=24)\n",
    "    ax3.bar(ns, bns, 0.1)\n",
    "    ax3.set_xlabel('n', fontsize=16)\n",
    "    ax3.set_xticks(ns)\n",
    "    ax3.axvline(n+0.1,c='green', ls=\":\")\n",
    "    \n",
    "    plt.show()"
   ]
  },
  {
   "cell_type": "markdown",
   "metadata": {
    "tags": []
   },
   "source": [
    "## Key Facs\n",
    "1. Der Fourier-Koeffizient $a_n$ bzw $b_n$ ist die **Amplitude** der Frequenz $n \\cdot \\omega_0$ in $y(t)$\n",
    "1. Alle Fourier-Koeffizienten zusammen bezeichnen wir als das **Spektrum** von $y(t)$. Das Spektrum zeigt, welche Frequenzen mit welcher Intensität im Signal vertreten ist.\n",
    "1. Bei der Fourier-Reihe ist das Spektrum **diskret**, weil:\n",
    "    * (durch Nachdenken): Nur ganzzahlige Vielfache $n \\cdot \\omega_0$ der Grundfrequenz  $\\omega_0$ kommen vor\n",
    "    * (am Diagramm): Wir sehen dort keine durchgängige Kurve, sondern einzelne sog. **Spektrallinien**\n",
    "1. Die reellen und die komplexen Fourier-Koeffizienten lassen sich leicht ineinander umrechnen (siehe Papula Bd. 2, Kap. II). Es gilt\n",
    "    * $a_0=2 \\cdot c_0$\n",
    "    * $a_n = c_n + c_{-n}$\n",
    "    * $b_n = j(c_n - c_{-n})$\n",
    "    * **Es fällt auf:** Für ein $a_n$ benötigt man sowohl das $c_n$ als auch das $c_{-n})$ (Analog für $b_n$).\n",
    "    * **Also: Für den Anteil der Frequenz $n \\cdot \\omega_0$ benötigen wir das $c_n$ als auch das $c_{-n}$**\n",
    "\n",
    "\n",
    "## Das Gibbs’sche Phänomen\n",
    "\n",
    "Deutlich wird hier auch das Gibbs’sche Phänomen. Als Gibbs’sches Phänomen bezeichnet man in der Mathematik das Verhalten, dass bei abgebrochenen Fourierreihen und bei der Fourier-Transformation von stückweise stetigen, differenzierbaren Funktionen in der Umgebung von Sprungstellen sogenannte Überschwingungen auftreten. Diese Überschwingungen verschwinden auch dann nicht, wenn die endliche Anzahl von Termen zur Approximierung bzw. die Bandbreite auf beliebig hohe, aber endliche Werte erhöht wird, sondern weisen in der maximalen Auslenkung eine konstante, relative Auslenkung von ca. 9 % auf (Quelle: Wörtliches Zitat aus der Wikipedia),"
   ]
  },
  {
   "cell_type": "code",
   "execution_count": null,
   "metadata": {
    "jupyter": {
     "source_hidden": true
    }
   },
   "outputs": [],
   "source": []
  }
 ],
 "metadata": {
  "interpreter": {
   "hash": "63fd5069d213b44bf678585dea6b12cceca9941eaf7f819626cde1f2670de90d"
  },
  "kernelspec": {
   "display_name": "Python 3 (ipykernel)",
   "language": "python",
   "name": "python3"
  },
  "language_info": {
   "codemirror_mode": {
    "name": "ipython",
    "version": 3
   },
   "file_extension": ".py",
   "mimetype": "text/x-python",
   "name": "python",
   "nbconvert_exporter": "python",
   "pygments_lexer": "ipython3",
   "version": "3.9.7"
  }
 },
 "nbformat": 4,
 "nbformat_minor": 4
}
