{
 "cells": [
  {
   "cell_type": "markdown",
   "metadata": {},
   "source": [
    "# Diskrete Fourier Transformation (interaktiv)"
   ]
  },
  {
   "cell_type": "code",
   "execution_count": 1,
   "metadata": {},
   "outputs": [],
   "source": [
    "from __future__ import print_function\n",
    "from ipywidgets import interact, interactive, fixed, interact_manual\n",
    "import matplotlib.pylab as plt\n",
    "import numpy as np\n"
   ]
  },
  {
   "cell_type": "code",
   "execution_count": 10,
   "metadata": {},
   "outputs": [
    {
     "data": {
      "application/vnd.jupyter.widget-view+json": {
       "model_id": "2e94486479ad45f084cd8cd1eb67af64",
       "version_major": 2,
       "version_minor": 0
      },
      "text/plain": [
       "interactive(children=(FloatSlider(value=2.0, description='amp', max=3.0, min=1.0), FloatSlider(value=1.0, desc…"
      ]
     },
     "metadata": {},
     "output_type": "display_data"
    }
   ],
   "source": [
    "time=np.linspace(0,2,256)\n",
    "\n",
    "@interact(amp=(1,3,0.1), phase=(0,5,0.1), freq=(1,4,0.1), window=[\"Off\", \"Hann\"], showWindow=True)\n",
    "def f(amp=2, phase=1, freq=1, window=\"Off\", showWindow=True):\n",
    "    amplitude = amp * np.sin(freq * 2 * np.pi * time + phase * 2 * np.pi)\n",
    "\n",
    "    T = time[1] - time[0]  # sampling interval \n",
    "    N = amplitude.size\n",
    "    windowing = np.ones(N)\n",
    "    if(window==\"Hann\"):\n",
    "        windowing = np.hanning(N)\n",
    "    amplitude = windowing*amplitude\n",
    "\n",
    "    fft = np.fft.fft(amplitude)\n",
    "    abs=np.abs(fft)[0:N//2] * 1 / N\n",
    "    # 1/T = Frequenz in Hertz\n",
    "    freq = np.linspace(0, 1/(2*T), N//2)\n",
    "\n",
    "\n",
    "\n",
    "    fig, (ax1, ax2) = plt.subplots(2, 1)\n",
    "    # make a little extra space between the subplots\n",
    "    fig.subplots_adjust(hspace=0.5)\n",
    "    fig.set_figwidth(30)\n",
    "    fig.set_figheight(10)\n",
    "\n",
    "    if(showWindow):\n",
    "        ax1.plot(time, amp*windowing)\n",
    "    \n",
    "    ax1.plot(time, amplitude)\n",
    "    ax1.axis([0, 2, -3.1, +3.1])\n",
    "    # Give a title for the sine wave plot\n",
    "\n",
    "    # Give x axis label for the sine wave plot\n",
    "    ax1.set_xlabel('Zeit')\n",
    "    # Give y axis label for the sine wave plot\n",
    "    ax1.set_ylabel('Amplitude')\n",
    "    ax1.grid(True, which='both')\n",
    "    ax1.axhline(y=0.0, color=\"grey\")\n",
    "\n",
    "    ax2.set_ylabel(\"Energie\")\n",
    "    ax2.set_xlabel(\"Frequenz [Hz]\")\n",
    "    ax2.bar(freq[0:N//2], abs, 0.1)  # 1 / N is a normalization factor\n",
    "    plt.show()\n",
    "    return\n"
   ]
  }
 ],
 "metadata": {
  "interpreter": {
   "hash": "63fd5069d213b44bf678585dea6b12cceca9941eaf7f819626cde1f2670de90d"
  },
  "kernelspec": {
   "display_name": "Python 3.9.7 64-bit",
   "language": "python",
   "name": "python3"
  },
  "language_info": {
   "codemirror_mode": {
    "name": "ipython",
    "version": 3
   },
   "file_extension": ".py",
   "mimetype": "text/x-python",
   "name": "python",
   "nbconvert_exporter": "python",
   "pygments_lexer": "ipython3",
   "version": "3.9.7"
  },
  "orig_nbformat": 4
 },
 "nbformat": 4,
 "nbformat_minor": 2
}
