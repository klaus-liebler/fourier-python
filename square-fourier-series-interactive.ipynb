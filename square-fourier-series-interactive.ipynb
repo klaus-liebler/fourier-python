{
 "cells": [
  {
   "cell_type": "markdown",
   "metadata": {},
   "source": [
    "# Fourier-Reihe der Rechteck-Schwingung (interaktiv)\n",
    "Die folgende interaktive Animation zeigt die Zerlegung einer Rechteckschwingung \n",
    "\n",
    "Deutlich wird hier auch das Gibbs’sche Phänomen. Als Gibbs’sches Phänomen bezeichnet man in der Mathematik das Verhalten, dass bei abgebrochenen Fourierreihen und bei der Fourier-Transformation von stückweise stetigen, differenzierbaren Funktionen in der Umgebung von Sprungstellen sogenannte Überschwingungen auftreten. Diese Überschwingungen verschwinden auch dann nicht, wenn die endliche Anzahl von Termen zur Approximierung bzw. die Bandbreite auf beliebig hohe, aber endliche Werte erhöht wird, sondern weisen in der maximalen Auslenkung eine konstante, relative Auslenkung von ca. 9 % auf.\n",
    "\n",
    "Mit Hilfe des Schiebereglers können Sie einstellen, bis zu welchem Wert von $n$ die $a_n$ und die $b_n$ berechnet werden. Dazu zwei Hinweise\n",
    "* Wie Sie wissen, ist $rect(t)$ eine gerade Funktion Es gilt deshalb $a_n=0$\n",
    "* Die $b_n$ sind $0$ für alle gerade n"
   ]
  },
  {
   "cell_type": "code",
   "execution_count": 5,
   "metadata": {},
   "outputs": [
    {
     "ename": "SyntaxError",
     "evalue": "invalid syntax (Temp/ipykernel_18296/711225264.py, line 18)",
     "output_type": "error",
     "traceback": [
      "\u001b[1;36m  File \u001b[1;32m\"C:\\Users\\KLAUSL~1\\AppData\\Local\\Temp/ipykernel_18296/711225264.py\"\u001b[1;36m, line \u001b[1;32m18\u001b[0m\n\u001b[1;33m    @widgets.interact(arg=(1,10,1, description=\"Summanden\"), continuous_update=False)\u001b[0m\n\u001b[1;37m                                              ^\u001b[0m\n\u001b[1;31mSyntaxError\u001b[0m\u001b[1;31m:\u001b[0m invalid syntax\n"
     ]
    }
   ],
   "source": [
    "from __future__ import print_function\n",
    "import ipywidgets as widgets\n",
    "from IPython.display import display, Markdown, Math, Latex\n",
    "import matplotlib.pylab as plt\n",
    "import numpy as np\n",
    "from fhos import colors\n",
    "import scipy.signal as ss\n",
    "\n",
    "plt.rcParams['text.usetex'] = True\n",
    "POINTS = 1000\n",
    "t=np.linspace(-7,+7,POINTS) \n",
    "y=ss.square(t)\n",
    "#omega_0 ist 1\n",
    "\n",
    "m=Math(r\"a=a\")\n",
    "mathHandle=display(m, display_id=\"my_id\")\n",
    "\n",
    "@widgets.interact(Summanden=(1,10,1), continuous_update=False)\n",
    "def f(Summanden=1):\n",
    "    fig, ax = plt.subplots(figsize=(15, 8))\n",
    "    ax.plot(t,y,'r--')\n",
    "    vect_sum=0\n",
    "    formula=\"\"\n",
    "    for n in range(1, 2*Summanden,2):\n",
    "        b_n=4.0/(n*np.pi)\n",
    "        vect = b_n*np.sin(n*t)\n",
    "        formula+=r'\\frac{4}{'+str(n)+r'\\pi}\\cdot\\sin('+str(n)+r'\\pi\\cdot t)+'\n",
    "        ax.plot(t, vect, color='lightgrey')\n",
    "        vect_sum+=vect\n",
    "    ax.plot(t, vect_sum)\n",
    "    ax.set_xlabel(\"Zeit [s]\", fontsize=16)\n",
    "    #ax.set_title(r'$\\displaystyle y(t)='+formula+'$', fontsize=16, pad=20)\n",
    "    m.data=r\"y(t)=\"+formula[:-1]\n",
    "    mathHandle.update(m)\n",
    "    plt.show()"
   ]
  }
 ],
 "metadata": {
  "interpreter": {
   "hash": "63fd5069d213b44bf678585dea6b12cceca9941eaf7f819626cde1f2670de90d"
  },
  "kernelspec": {
   "display_name": "Python 3.9.7 64-bit",
   "language": "python",
   "name": "python3"
  },
  "language_info": {
   "codemirror_mode": {
    "name": "ipython",
    "version": 3
   },
   "file_extension": ".py",
   "mimetype": "text/x-python",
   "name": "python",
   "nbconvert_exporter": "python",
   "pygments_lexer": "ipython3",
   "version": "3.9.7"
  },
  "orig_nbformat": 4
 },
 "nbformat": 4,
 "nbformat_minor": 2
}
