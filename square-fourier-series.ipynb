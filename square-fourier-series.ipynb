{
 "cells": [
  {
   "cell_type": "code",
   "execution_count": 9,
   "metadata": {},
   "outputs": [
    {
     "data": {
      "application/vnd.jupyter.widget-view+json": {
       "model_id": "ec233b393fb14e348e629969de3648c3",
       "version_major": 2,
       "version_minor": 0
      },
      "text/plain": [
       "interactive(children=(FloatSlider(value=1.5, description='T', max=3.0, min=0.2), Output()), _dom_classes=('wid…"
      ]
     },
     "metadata": {},
     "output_type": "display_data"
    }
   ],
   "source": [
    "import numpy as np\n",
    "from matplotlib import pyplot as plt\n",
    "import math\n",
    "from ipywidgets import interact, interactive, fixed, interact_manual\n",
    "import matplotlib.pylab as plt\n",
    "import numpy as np\n",
    "\n",
    "\n",
    "@interact(T=(0.2,3,0.1))\n",
    "def f(T):   \n",
    "    def rect(t, T):\n",
    "        t=t%T\n",
    "        if t<T/2:\n",
    "            return 1\n",
    "        else:\n",
    "            return -1\n",
    "    def fr_an_of_rect(n):\n",
    "        return 0\n",
    "    def fr_bn_of_rect(n):\n",
    "        if n%2==1:\n",
    "            return 4/(n*np.pi)\n",
    "        else:\n",
    "            return 0\n",
    "    \n",
    "    ts = np.linspace(0, 10, 1000)\n",
    "    ns = np.arange(0, 20, 1)\n",
    "    y =  [rect(t, T) for t in ts]\n",
    "    ans=[fr_an_of_rect(n) for n in ns ]\n",
    "    bns=[fr_bn_of_rect(n) for n in ns ]\n",
    "    \n",
    "    \n",
    "    fig, (ax1, ax2, ax3) = plt.subplots(3, 1)\n",
    "    # make a little extra space between the subplots\n",
    "    fig.subplots_adjust(hspace=0.5)\n",
    "    fig.set_figwidth(20)\n",
    "    fig.set_figheight(12)\n",
    "    ax1.plot(ts, y)\n",
    "    ax1.title.set_text('Der RECT-Schwingung')\n",
    "    ax2.bar(ns, ans)\n",
    "    ax2.set_xticks(ns)\n",
    "    ax2.title.set_text('a_n')\n",
    "    \n",
    "    ax3.bar(ns, bns)\n",
    "    ax3.set_xticks(ns)\n",
    "    ax3.title.set_text('b_n')\n",
    "    plt.show()"
   ]
  }
 ],
 "metadata": {
  "interpreter": {
   "hash": "63fd5069d213b44bf678585dea6b12cceca9941eaf7f819626cde1f2670de90d"
  },
  "kernelspec": {
   "display_name": "Python 3.9.7 64-bit",
   "language": "python",
   "name": "python3"
  },
  "language_info": {
   "codemirror_mode": {
    "name": "ipython",
    "version": 3
   },
   "file_extension": ".py",
   "mimetype": "text/x-python",
   "name": "python",
   "nbconvert_exporter": "python",
   "pygments_lexer": "ipython3",
   "version": "3.9.7"
  },
  "orig_nbformat": 4
 },
 "nbformat": 4,
 "nbformat_minor": 2
}
