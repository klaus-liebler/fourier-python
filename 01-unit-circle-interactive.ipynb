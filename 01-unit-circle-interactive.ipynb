{
 "cells": [
  {
   "cell_type": "markdown",
   "metadata": {},
   "source": [
    "# Komplexe Zahlen und die komplexwertige e-Funktion im Einheitskreis"
   ]
  },
  {
   "cell_type": "code",
   "execution_count": 14,
   "metadata": {},
   "outputs": [
    {
     "data": {
      "text/markdown": [
       "Angezeigt wird $y=e^{j \\cdot \\pi  \\cdot -1.0}=-1.0+j \\cdot -0.0$"
      ],
      "text/plain": [
       "<IPython.core.display.Markdown object>"
      ]
     },
     "metadata": {},
     "output_type": "display_data"
    },
    {
     "data": {
      "application/vnd.jupyter.widget-view+json": {
       "model_id": "374c4660a54d4428883093617bc701eb",
       "version_major": 2,
       "version_minor": 0
      },
      "text/plain": [
       "interactive(children=(FloatSlider(value=0.25, description='arg', layout=Layout(width='50%'), max=3.0, min=-1.0…"
      ]
     },
     "metadata": {},
     "output_type": "display_data"
    },
    {
     "data": {
      "text/plain": [
       "<function __main__.f(arg)>"
      ]
     },
     "execution_count": 14,
     "metadata": {},
     "output_type": "execute_result"
    }
   ],
   "source": [
    "from __future__ import print_function\n",
    "import ipywidgets as widgets\n",
    "from IPython.display import display, Markdown, Math, Latex\n",
    "import matplotlib.pylab as plt\n",
    "import numpy as np\n",
    "from fhos import colors\n",
    "import scipy.signal as ss\n",
    "plt.rcParams['text.usetex'] = True\n",
    "\n",
    "m=Markdown(r\"Angezeigt wird $y(t)=e^{j \\cdot \\pi  \\cdot \"+str(0.25)+\"}$\")\n",
    "mathHandle=display(m, display_id=\"my_id2\")\n",
    " \n",
    "\n",
    "def f(arg):\n",
    "    plt.figure(figsize=(6, 6))\n",
    "    r = 1\n",
    "    Y = [r*np.exp(1j*theta) for theta in np.linspace(0,2*np.pi, 200)]\n",
    "    Y = np.array(Y)\n",
    "    plt.plot(np.real(Y), np.imag(Y), 'r')\n",
    "    plt.axis([-1.2, 1.2, -1.2, +1.2])\n",
    "    plt.ylabel('Im')\n",
    "    plt.xlabel('Re')\n",
    "    plt.axhline(y=0,color='black')\n",
    "    plt.axvline(x=0, color='black')\n",
    "    y=(r*np.exp(1j*np.pi*arg))\n",
    "    plt.plot([0,np.real(y)],[0, np.imag(y)], 'r') # Draw the hypotenuse\n",
    "    plt.plot([np.real(y), np.real(y)],[-1.2, +1.2], 'k--') # Draw the projection on real-axis\n",
    "    plt.plot([-1.2,+1.2],[np.imag(y), np.imag(y)], 'k--')\n",
    "    plt.plot(np.real(y), np.imag(y), 'bo')\n",
    "    m.data=r\"Angezeigt wird $y=e^{j \\cdot \\pi  \\cdot \"+str(arg)+\"}=\"+str(np.round(np.real(y),3))+\"+j \\cdot \"+str(np.round(np.imag(y),3))+\"$\"\n",
    "    mathHandle.update(m)\n",
    "    plt.show()\n",
    "\n",
    "widgets.interact(f, arg=widgets.FloatSlider(description=\"arg\", value=0.25, min=-1, max=3, step=0.125, layout=widgets.Layout(width='50%')))\n"
   ]
  },
  {
   "cell_type": "markdown",
   "metadata": {},
   "source": [
    "Key Facts\n",
    "* Komplexe Zahlen bestehen aus einem Realteil (Re) und einem Imaginärteil (Im), für die imaginäre Einheit verwende ich hier das Symbol $𝑗$\n",
    "* Für die grafische Darstellung einer komplexen Zahl verwendet man in der Regel eine 2D-Zahlenebene mit dem Re-Teil auf der Rechtsachse und dem Im-Teil auf der Hochachse\n",
    "* Alle wesentlichen Eigenschaften und Rechenregeln finden Sie in Papula Bd. 1, Kap. VII \n",
    "* Auch die e-Funktion lässt sich mit komplexem Argument und komplexem Wert darstellen (Berechnung über Taylor-Reihenentwicklung)\n",
    "* Für viele (auch für Ihren Dozenten) die schönste Gleichung der Mathematik: $e^{j\\pi}=−1$\n",
    "* In der o.g. Darstellung bewegt sich der Funktionswert von $f(x)=e^{jx}=−1 x \\in \\mathbb{R} $  auf einem Kreis mit Radius 1 um den Ursprung. Beobachtungen:\n",
    "  * $x$ ist reell, das Argument der e-Funktion $jx$ ist dann rein imaginär\n",
    "  * Die Funktion ist periodisch mit der Periode $2\\pi$\n",
    "  * Für die Argumente $j⋅0$,$j\\cdot 2\\pi$, ... ist der Funktionswert auch rein reell, nämlich 1\n",
    "  * Für die Argumente $j \\cdot 2\\pi⋅ \\frac{𝑛}{𝐾}, n,K \\in \\mathbb{N}$, liegt eine K-te Einheitswurzel vor, weil $(e^{𝑗 \\cdot 2 \\pi \\frac{𝑛}{𝐾}})^{𝐾}=1$\n",
    "\n",
    "Verwenden Sie den Schieber, um den komplexen Wert $e^{-j \\cdot \\pi  \\cdot arg}$ darzustellen. Die Variable $arg$ kann von $-1$ bis $3$ verändert werden."
   ]
  }
 ],
 "metadata": {
  "interpreter": {
   "hash": "63fd5069d213b44bf678585dea6b12cceca9941eaf7f819626cde1f2670de90d"
  },
  "kernelspec": {
   "display_name": "Python 3.9.7 64-bit",
   "language": "python",
   "name": "python3"
  },
  "language_info": {
   "codemirror_mode": {
    "name": "ipython",
    "version": 3
   },
   "file_extension": ".py",
   "mimetype": "text/x-python",
   "name": "python",
   "nbconvert_exporter": "python",
   "pygments_lexer": "ipython3",
   "version": "3.9.7"
  },
  "orig_nbformat": 4
 },
 "nbformat": 4,
 "nbformat_minor": 2
}
