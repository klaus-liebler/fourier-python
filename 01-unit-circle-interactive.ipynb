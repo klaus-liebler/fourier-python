{
 "cells": [
  {
   "cell_type": "markdown",
   "metadata": {},
   "source": [
    "# Die komplexwertige e-Funktion im Einheitskreis\n",
    "Verwenden Sie den Schieber, um den komplexen Wert $e^{-j \\cdot \\pi  \\cdot arg}$ darzustellen. Die Variable $arg$ kann von $0$ bis $2$ verändert werden."
   ]
  },
  {
   "cell_type": "code",
   "execution_count": 5,
   "metadata": {},
   "outputs": [
    {
     "data": {
      "text/markdown": [
       "Angezeigt wird $y=e^{-j \\cdot \\pi  \\cdot 2.0}=1.0+j \\cdot -0.0$"
      ],
      "text/plain": [
       "<IPython.core.display.Markdown object>"
      ]
     },
     "metadata": {},
     "output_type": "display_data"
    },
    {
     "data": {
      "application/vnd.jupyter.widget-view+json": {
       "model_id": "b30eba54412e4ca18e0e62fa43dcfb2c",
       "version_major": 2,
       "version_minor": 0
      },
      "text/plain": [
       "interactive(children=(FloatSlider(value=0.25, description='arg', max=2.0, step=0.05), Output()), _dom_classes=…"
      ]
     },
     "metadata": {},
     "output_type": "display_data"
    }
   ],
   "source": [
    "from __future__ import print_function\n",
    "import ipywidgets as widgets\n",
    "from IPython.display import display, Markdown, Math, Latex\n",
    "import matplotlib.pylab as plt\n",
    "import numpy as np\n",
    "from fhos import colors\n",
    "import scipy.signal as ss\n",
    "plt.rcParams['text.usetex'] = True\n",
    "\n",
    "m=Markdown(r\"Angezeigt wird $y(t)=e^{-j \\cdot \\pi  \\cdot \"+str(0.25)+\"}$\")\n",
    "mathHandle=display(m, display_id=\"my_id2\")\n",
    "\n",
    "@widgets.interact(arg=(0,2,0.05))\n",
    "def f(arg=0.25):\n",
    "    plt.figure(figsize=(10, 10))\n",
    "    r = 1\n",
    "    Y = [r*np.exp(1j*theta) for theta in np.linspace(0,2*np.pi, 200)]\n",
    "    Y = np.array(Y)\n",
    "    plt.plot(np.real(Y), np.imag(Y), 'r')\n",
    "    plt.axis([-1.2, 1.2, -1.2, +1.2])\n",
    "    plt.ylabel('Im')\n",
    "    plt.xlabel('Re')\n",
    "    plt.axhline(y=0,color='black')\n",
    "    plt.axvline(x=0, color='black')\n",
    "    y=(r*np.exp(1j*np.pi*arg))\n",
    "    plt.plot([0,np.real(y)],[0, np.imag(y)], 'r') # Draw the hypotenuse\n",
    "    plt.plot([np.real(y), np.real(y)],[-1.2, +1.2], 'k--') # Draw the projection on real-axis\n",
    "    plt.plot([-1.2,+1.2],[np.imag(y), np.imag(y)], 'k--')\n",
    "    plt.plot(np.real(y), np.imag(y), 'bo')\n",
    "    m.data=r\"Angezeigt wird $y=e^{-j \\cdot \\pi  \\cdot \"+str(arg)+\"}=\"+str(np.round(np.real(y),2))+\"+j \\cdot \"+str(np.round(np.imag(y),2))+\"$\"\n",
    "    \n",
    "    mathHandle.update(m)\n",
    "    plt.show()\n",
    "    return\n",
    "\n"
   ]
  }
 ],
 "metadata": {
  "interpreter": {
   "hash": "63fd5069d213b44bf678585dea6b12cceca9941eaf7f819626cde1f2670de90d"
  },
  "kernelspec": {
   "display_name": "Python 3.9.7 64-bit",
   "language": "python",
   "name": "python3"
  },
  "language_info": {
   "codemirror_mode": {
    "name": "ipython",
    "version": 3
   },
   "file_extension": ".py",
   "mimetype": "text/x-python",
   "name": "python",
   "nbconvert_exporter": "python",
   "pygments_lexer": "ipython3",
   "version": "3.9.7"
  },
  "orig_nbformat": 4
 },
 "nbformat": 4,
 "nbformat_minor": 2
}
