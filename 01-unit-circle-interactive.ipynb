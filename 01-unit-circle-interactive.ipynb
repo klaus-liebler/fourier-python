{
 "cells": [
  {
   "cell_type": "markdown",
   "metadata": {},
   "source": [
    "# Komplexe Zahlen und die komplexwertige e-Funktion (interaktiv)"
   ]
  },
  {
   "cell_type": "markdown",
   "metadata": {},
   "source": [
    "## Key Facts (Details in Papula Bd. 1, Kap. VII)\n",
    "1. Komplexe Zahlen bestehen aus einem Realteil ($\\operatorname{Re}$) und einem Imaginärteil ($\\operatorname{Im}$), für die imaginäre Einheit verwende ich hier das Symbol $𝑗$.\n",
    "1. Für die grafische Darstellung einer komplexen Zahl verwendet man in der Regel eine 2D-Zahlenebene mit dem Re-Teil auf der Rechtsachse und dem Im-Teil auf der Hochachse.\n",
    "1. Eine komplexe Zahl $z$ kann man auch in Polarkoordinaten mit Betrag $\\sqrt{\\operatorname{Re}(z)^2+\\operatorname{Im}(z)^2}$ und Winkel $\\operatorname{arg}(z)$ darstellen\n",
    "1. Auch die e-Funktion lässt sich mit komplexem Argument und komplexem Wert darstellen (Berechnung über Taylor-Reihenentwicklung).\n",
    "1. Für viele (auch für Ihren Dozenten) die schönste Gleichung der Mathematik: $e^{j\\pi}=−1$.\n",
    "\n",
    "## Animation\n",
    "Bewegen Sie den Schieber, um den komplexen Wert $f(x)=e^{j x},x \\in \\mathbb{R}$ darzustellen. Der Wert für $x$ kann von $-1 \\cdot\\pi$ bis $+3 \\cdot \\pi$ verändert werden.\n",
    "* $f(x)=e^{j x}$ bewegt sich auf einem Kreis mit Radius 1 um den Ursprung.\n",
    "* Die Funktion ist in $x$ periodisch mit der Periode $2\\pi$.\n",
    "* Für die Argumente $x=j\\cdot 0\\pi$, $j\\cdot 2\\pi$, ... ist der Funktionswert auch rein reell, nämlich 1.\n",
    "\n"
   ]
  },
  {
   "cell_type": "code",
   "execution_count": 1,
   "metadata": {
    "jupyter": {
     "source_hidden": true
    },
    "tags": []
   },
   "outputs": [
    {
     "data": {
      "text/markdown": [
       "Angezeigt wird $z=e^{j \\cdot \\pi  \\cdot (0.0)}=1.0+j \\cdot 0.0$"
      ],
      "text/plain": [
       "<IPython.core.display.Markdown object>"
      ]
     },
     "metadata": {},
     "output_type": "display_data"
    },
    {
     "data": {
      "application/vnd.jupyter.widget-view+json": {
       "model_id": "a3d2b0dc275a440ea49ee3f637f3fb27",
       "version_major": 2,
       "version_minor": 0
      },
      "text/plain": [
       "interactive(children=(FloatSlider(value=0.25, description='$x/\\\\pi$', layout=Layout(width='50%'), max=3.0, min…"
      ]
     },
     "metadata": {},
     "output_type": "display_data"
    },
    {
     "data": {
      "text/plain": [
       "<function __main__.f(arg)>"
      ]
     },
     "execution_count": 1,
     "metadata": {},
     "output_type": "execute_result"
    }
   ],
   "source": [
    "from __future__ import print_function\n",
    "import ipywidgets as widgets\n",
    "from IPython.display import display, Markdown, Math, Latex\n",
    "import matplotlib.pylab as plt\n",
    "import numpy as np\n",
    "from fhos import colors\n",
    "import scipy.signal as ss\n",
    "plt.rcParams['text.usetex'] = True\n",
    "\n",
    "m=Markdown(r\"Angezeigt wird $z=e^{j \\cdot \\pi  \\cdot (\"+str(0.25)+\")}$\")\n",
    "mathHandle=display(m, display_id=\"my_id2\")\n",
    " \n",
    "\n",
    "def f(arg):\n",
    "    plt.figure(figsize=(6, 6))\n",
    "    r = 1\n",
    "    Y = [r*np.exp(1j*theta) for theta in np.linspace(0,2*np.pi, 200)]\n",
    "    Y = np.array(Y)\n",
    "    plt.plot(np.real(Y), np.imag(Y), 'r')\n",
    "    plt.axis([-1.2, 1.2, -1.2, +1.2])\n",
    "    plt.ylabel('Im(z)')\n",
    "    plt.xlabel('Re(z)')\n",
    "    plt.axhline(y=0,color='black')\n",
    "    plt.axvline(x=0, color='black')\n",
    "    z=(r*np.exp(1j*np.pi*arg))\n",
    "    plt.plot([0,np.real(z)],[0, np.imag(z)], 'r:') # Draw the hypotenuse\n",
    "    plt.plot([np.real(z), np.real(z)],[-1.2, +1.2], 'k--') # Draw the projection on real-axis\n",
    "    plt.plot([-1.2,+1.2],[np.imag(z), np.imag(z)], 'k--')\n",
    "    plt.plot(np.real(z), np.imag(z), 'bo')\n",
    "    m.data=r\"Angezeigt wird $z=e^{j \\cdot \\pi  \\cdot (\"+str(arg)+\")}=\"+str(np.round(np.real(z),3))+\"+j \\cdot \"+str(np.round(np.imag(z),3))+\"$\"\n",
    "    mathHandle.update(m)\n",
    "    plt.show()\n",
    "\n",
    "widgets.interact(f, arg=widgets.FloatSlider(description=r\"$x/\\pi$\", value=0.25, min=-1, max=3, step=0.125, layout=widgets.Layout(width='50%')))\n"
   ]
  },
  {
   "cell_type": "code",
   "execution_count": null,
   "metadata": {
    "jupyter": {
     "source_hidden": true
    }
   },
   "outputs": [],
   "source": []
  }
 ],
 "metadata": {
  "interpreter": {
   "hash": "63fd5069d213b44bf678585dea6b12cceca9941eaf7f819626cde1f2670de90d"
  },
  "kernelspec": {
   "display_name": "Python 3 (ipykernel)",
   "language": "python",
   "name": "python3"
  },
  "language_info": {
   "codemirror_mode": {
    "name": "ipython",
    "version": 3
   },
   "file_extension": ".py",
   "mimetype": "text/x-python",
   "name": "python",
   "nbconvert_exporter": "python",
   "pygments_lexer": "ipython3",
   "version": "3.9.7"
  }
 },
 "nbformat": 4,
 "nbformat_minor": 4
}
