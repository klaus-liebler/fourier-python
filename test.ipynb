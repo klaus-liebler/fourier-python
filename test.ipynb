{
 "cells": [
  {
   "cell_type": "code",
   "execution_count": 7,
   "metadata": {},
   "outputs": [
    {
     "data": {
      "text/latex": [
       "$\\displaystyle \\frac{x+6}{x-1}$"
      ],
      "text/plain": [
       "<IPython.core.display.Math object>"
      ]
     },
     "metadata": {},
     "output_type": "display_data"
    },
    {
     "data": {
      "application/vnd.jupyter.widget-view+json": {
       "model_id": "2cf7481abad84818acb2b70ff1ff88ce",
       "version_major": 2,
       "version_minor": 0
      },
      "text/plain": [
       "interactive(children=(IntSlider(value=1, description='arg', max=6, min=1), Output()), _dom_classes=('widget-in…"
      ]
     },
     "metadata": {},
     "output_type": "display_data"
    }
   ],
   "source": [
    "from __future__ import print_function\n",
    "import ipywidgets as widgets\n",
    "from IPython.display import display, Markdown, Math, Latex\n",
    "import matplotlib.pylab as plt\n",
    "import numpy as np\n",
    "from fhos import colors\n",
    "import scipy.signal as ss\n",
    "\n",
    "arg=3\n",
    "m=Math(r\"\\frac{x+\"+str(arg)+\"}{x-1}\")\n",
    "mathHandle=display(m, display_id=\"my_id\")\n",
    "\n",
    "\n",
    "POINTS = 1000\n",
    "t=np.linspace(-7,+7,POINTS) \n",
    "y=ss.square(t)\n",
    "\n",
    "\n",
    "@widgets.interact(arg=(1,6,1), continuous_update=False)\n",
    "def f(arg=1):\n",
    "    fig, ax = plt.subplots(figsize=(15, 8))\n",
    "    ax.plot(t,y,'r--')\n",
    "    m.data=r\"\\frac{x+\"+str(arg)+\"}{x-1}\"\n",
    "    mathHandle.update(m)\n",
    "    plt.show()\n",
    "\n",
    "\n"
   ]
  }
 ],
 "metadata": {
  "interpreter": {
   "hash": "63fd5069d213b44bf678585dea6b12cceca9941eaf7f819626cde1f2670de90d"
  },
  "kernelspec": {
   "display_name": "Python 3.9.7 64-bit",
   "language": "python",
   "name": "python3"
  },
  "language_info": {
   "codemirror_mode": {
    "name": "ipython",
    "version": 3
   },
   "file_extension": ".py",
   "mimetype": "text/x-python",
   "name": "python",
   "nbconvert_exporter": "python",
   "pygments_lexer": "ipython3",
   "version": "3.9.7"
  },
  "orig_nbformat": 4
 },
 "nbformat": 4,
 "nbformat_minor": 2
}
