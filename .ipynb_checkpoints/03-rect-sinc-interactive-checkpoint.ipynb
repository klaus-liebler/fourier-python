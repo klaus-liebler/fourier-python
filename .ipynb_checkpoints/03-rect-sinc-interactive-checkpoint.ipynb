{
 "cells": [
  {
   "cell_type": "markdown",
   "metadata": {},
   "source": [
    "# Fourier-Transformation des RECT-Impulses"
   ]
  },
  {
   "cell_type": "markdown",
   "metadata": {},
   "source": [
    "Der RECT-Impuls ist definiert als\n",
    "\n",
    "$$\n",
    "rect(t) \\stackrel{\\mathrm{def}}= \\begin{cases}\n",
    "1 & \\vert t \\vert \\leq a \\\\\n",
    "0 & \\vert t \\vert \\gt a \\\\\n",
    "\\end{cases}. \n",
    "$$\n",
    "\n",
    "Verwenden Sie den Schieberegler, um a im Bereich 0 bis 3 einzustellen.\n",
    "\n",
    "Die (rein reelle) Fourier-Transformierte der rect-Funktion ist\n",
    "\n",
    "$$\n",
    "\\mathcal{F}\\{rect(t)\\}(\\omega) = \\begin{cases}\n",
    "\\frac{2 \\cdot sin(a\\omega)}{\\omega} & \\omega  \\neq 0 \\\\\n",
    "2a & \\omega  = 0 \\\\\n",
    "\\end{cases}. \n",
    "$$\n",
    "\n",
    "Der Betrag dieser Funktion liefert das Amplitudenspektrum.\n",
    "\n",
    "Der RECT-Impuls, die Fouriertransformierte und das Amplitudenspektrum werden in den folgenden drei Diagrammen für den eingestellten Wert von a dargestellt."
   ]
  },
  {
   "cell_type": "code",
   "execution_count": 1,
   "metadata": {
    "jupyter": {
     "source_hidden": true
    }
   },
   "outputs": [
    {
     "data": {
      "application/vnd.jupyter.widget-view+json": {
       "model_id": "48222dce12164f63bc10918e2e3f049f",
       "version_major": 2,
       "version_minor": 0
      },
      "text/plain": [
       "interactive(children=(FloatSlider(value=1.5, description='a', max=3.0, min=0.2), Output()), _dom_classes=('wid…"
      ]
     },
     "metadata": {},
     "output_type": "display_data"
    }
   ],
   "source": [
    "from __future__ import print_function\n",
    "import numpy as np\n",
    "from matplotlib import pyplot as plt\n",
    "import math\n",
    "from ipywidgets import interact, interactive, fixed, interact_manual\n",
    "import matplotlib.pylab as plt\n",
    "import numpy as np\n",
    "\n",
    "\n",
    "@interact(a=(0.2,3,0.1))\n",
    "def f(a):   \n",
    "    def ft_of_rect(omega):\n",
    "        if omega!=0:\n",
    "            return 2*np.sin(a*omega)/omega\n",
    "        else:\n",
    "            return 2*a\n",
    "    x = np.linspace(-4, 4, 1000)\n",
    "    omegas = np.linspace(-50, 50, 1000)\n",
    "    y =  np.where(abs(x)<=a, 1, 0)\n",
    "    \n",
    "    fouriertransformed =  [ft_of_rect(omega) for omega in omegas]\n",
    "    \n",
    "    fig, (ax1, ax2, ax3) = plt.subplots(3, 1)\n",
    "    # make a little extra space between the subplots\n",
    "    fig.subplots_adjust(hspace=0.5)\n",
    "    fig.set_figwidth(20)\n",
    "    fig.set_figheight(12)\n",
    "    ax1.plot(x, y)\n",
    "    ax1.title.set_text('Der RECT-Impuls')\n",
    "    ax2.plot(omegas, fouriertransformed)\n",
    "    ax2.title.set_text('Die Fouriertransformierte des RECT-Impulses')\n",
    "    amplitudes =  [abs(x) for x in fouriertransformed]\n",
    "    ax3.plot(omegas, amplitudes)\n",
    "    ax3.title.set_text('Das Amplitudenspektrum des RECT-Impulses')\n",
    "    plt.show()"
   ]
  }
 ],
 "metadata": {
  "interpreter": {
   "hash": "63fd5069d213b44bf678585dea6b12cceca9941eaf7f819626cde1f2670de90d"
  },
  "kernelspec": {
   "display_name": "Python 3 (ipykernel)",
   "language": "python",
   "name": "python3"
  },
  "language_info": {
   "codemirror_mode": {
    "name": "ipython",
    "version": 3
   },
   "file_extension": ".py",
   "mimetype": "text/x-python",
   "name": "python",
   "nbconvert_exporter": "python",
   "pygments_lexer": "ipython3",
   "version": "3.9.7"
  }
 },
 "nbformat": 4,
 "nbformat_minor": 4
}
