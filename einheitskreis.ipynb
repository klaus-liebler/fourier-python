{
 "cells": [
  {
   "cell_type": "markdown",
   "metadata": {},
   "source": [
    "# Die komplexwertige e-Funktion im Einheitskreis und Einheitswurzeln"
   ]
  },
  {
   "cell_type": "code",
   "execution_count": 2,
   "metadata": {},
   "outputs": [],
   "source": [
    "from __future__ import print_function\n",
    "from ipywidgets import interact, interactive, fixed, interact_manual\n",
    "import matplotlib.pylab as plt\n",
    "import numpy as np\n"
   ]
  },
  {
   "cell_type": "code",
   "execution_count": 3,
   "metadata": {},
   "outputs": [
    {
     "data": {
      "application/vnd.jupyter.widget-view+json": {
       "model_id": "7479d445b9964ec2b5e0ac04e190ddb6",
       "version_major": 2,
       "version_minor": 0
      },
      "text/plain": [
       "interactive(children=(FloatSlider(value=0.25, description='arg', max=2.0, step=0.05), Output()), _dom_classes=…"
      ]
     },
     "metadata": {},
     "output_type": "display_data"
    }
   ],
   "source": [
    "def argand(complex_number):\n",
    "    '''\n",
    "    This function takes a complex number.\n",
    "    '''\n",
    "    y = complex_number\n",
    "\n",
    "    \n",
    "\n",
    "    plt.plot([0,np.real(y)],[0, np.imag(y)], 'r') # Draw the hypotenuse\n",
    "    plt.plot([np.real(y), np.real(y)],[-1.2, +1.2], 'k--') # Draw the projection on real-axis\n",
    "    plt.plot([-1.2,+1.2],[np.imag(y), np.imag(y)], 'k--')\n",
    "    plt.plot(np.real(y), np.imag(y), 'bo')\n",
    "\n",
    "@interact(arg=(0,2,0.05))\n",
    "def f(arg=0.25):\n",
    "    plt.figure(figsize=(10, 10))\n",
    "    r = 1\n",
    "    Y = [r*np.exp(1j*theta) for theta in np.linspace(0,2*np.pi, 200)]\n",
    "    Y = np.array(Y)\n",
    "    plt.plot(np.real(Y), np.imag(Y), 'r')\n",
    "    plt.axis([-1.2, 1.2, -1.2, +1.2])\n",
    "    plt.ylabel('Im')\n",
    "    plt.xlabel('Re')\n",
    "    plt.axhline(y=0,color='black')\n",
    "    plt.axvline(x=0, color='black')\n",
    "    argand(r*np.exp(1j*np.pi*arg))\n",
    "    plt.show()\n",
    "    return\n"
   ]
  }
 ],
 "metadata": {
  "interpreter": {
   "hash": "63fd5069d213b44bf678585dea6b12cceca9941eaf7f819626cde1f2670de90d"
  },
  "kernelspec": {
   "display_name": "Python 3.9.7 64-bit",
   "language": "python",
   "name": "python3"
  },
  "language_info": {
   "codemirror_mode": {
    "name": "ipython",
    "version": 3
   },
   "file_extension": ".py",
   "mimetype": "text/x-python",
   "name": "python",
   "nbconvert_exporter": "python",
   "pygments_lexer": "ipython3",
   "version": "3.9.7"
  },
  "orig_nbformat": 4
 },
 "nbformat": 4,
 "nbformat_minor": 2
}
